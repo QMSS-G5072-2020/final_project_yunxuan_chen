{
 "cells": [
  {
   "cell_type": "markdown",
   "metadata": {},
   "source": [
    "### Use OpenWeatherAPI\n",
    "***\n",
    "I have compiled my python source file as .pyc file, it can run directly on command line.  \n",
    "In the command line, we should input the location like London, UK and explicit days to search the historical weather data. I store these data to local CSV file, user can find that file under the path where the .pyc file exists.\n",
    "Note we shall follow the format strictly, otherwise it would report error."
   ]
  },
  {
   "cell_type": "markdown",
   "metadata": {},
   "source": [
    "### Difference with pyowm\n",
    "***\n",
    "In fact, I never know the python package pyowm before you mention. I use the OpenWeather API because https://openweathermap.org/api is listed in the assignment instruction of Week8.  \n",
    "I gone through the pyowm on GitHub. Generally, the pyowm is a client  Python wrapper around the OpenWeatherMap web API. My OpenWeatherAPI is like a customized python library to search historical weather data for specified location. Three major functions implemented by myself. ***get_search_weather*** uses loops to create an interactive API interface in order to access current weather data for any location. ***data_process*** is the main funtion to wrangle data and transform data into a dataset or Python object ready for analysis. ***get_coordination*** handle, parse, and transform JSON and XML content scraped from public websites, and I use regular expression to get the latitude and longitude of the input location."
   ]
  },
  {
   "cell_type": "code",
   "execution_count": null,
   "metadata": {},
   "outputs": [],
   "source": []
  }
 ],
 "metadata": {
  "kernelspec": {
   "display_name": "Python 3",
   "language": "python",
   "name": "python3"
  },
  "language_info": {
   "codemirror_mode": {
    "name": "ipython",
    "version": 3
   },
   "file_extension": ".py",
   "mimetype": "text/x-python",
   "name": "python",
   "nbconvert_exporter": "python",
   "pygments_lexer": "ipython3",
   "version": "3.6.4"
  }
 },
 "nbformat": 4,
 "nbformat_minor": 2
}
